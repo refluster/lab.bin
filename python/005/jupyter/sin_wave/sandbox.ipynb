{
 "cells": [
  {
   "cell_type": "code",
   "execution_count": 21,
   "metadata": {
    "collapsed": true
   },
   "outputs": [],
   "source": [
    "import numpy as np\n",
    "import pandas as pd\n",
    "%matplotlib inline"
   ]
  },
  {
   "cell_type": "code",
   "execution_count": 43,
   "metadata": {
    "collapsed": false
   },
   "outputs": [
    {
     "name": "stdout",
     "output_type": "stream",
     "text": [
      "[[ 0.          0.12533323]\n",
      " [ 0.12533323  0.24868989]\n",
      " [ 0.24868989  0.36812455]]\n",
      "[[ 0.12533323  0.24868989]\n",
      " [ 0.24868989  0.36812455]\n",
      " [ 0.36812455  0.48175367]]\n",
      "[[ 0.24868989  0.36812455]\n",
      " [ 0.36812455  0.48175367]\n",
      " [ 0.48175367  0.58778525]]\n"
     ]
    },
    {
     "data": {
      "text/plain": [
       "array([[ 0.36812455],\n",
       "       [ 0.48175367],\n",
       "       [ 0.58778525]])"
      ]
     },
     "execution_count": 43,
     "metadata": {},
     "output_type": "execute_result"
    }
   ],
   "source": [
    "train_data = np.load('normal.npy')\n",
    "input = np.empty(0)\n",
    "output = np.empty(0)\n",
    "\n",
    "for i in range(3):\n",
    "    part = train_data[i:i+3]\n",
    "    print(part)\n",
    "    input = np.append(input, part[:, 0])\n",
    "    output = np.append(output, part[-1, 1])\n",
    "input.reshape(-1, 3, 1)\n",
    "output.reshape(-1, 1)"
   ]
  }
 ],
 "metadata": {
  "kernelspec": {
   "display_name": "Python 2",
   "language": "python",
   "name": "python2"
  },
  "language_info": {
   "codemirror_mode": {
    "name": "ipython",
    "version": 2
   },
   "file_extension": ".py",
   "mimetype": "text/x-python",
   "name": "python",
   "nbconvert_exporter": "python",
   "pygments_lexer": "ipython2",
   "version": "2.7.9"
  }
 },
 "nbformat": 4,
 "nbformat_minor": 1
}
